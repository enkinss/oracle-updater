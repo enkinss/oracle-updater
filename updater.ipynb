{
 "cells": [
  {
   "cell_type": "code",
   "execution_count": null,
   "id": "ddceb106-acc5-4d19-92f1-8415e7ab5917",
   "metadata": {
    "editable": true,
    "jupyter": {
     "is_executing": true
    },
    "slideshow": {
     "slide_type": ""
    },
    "tags": []
   },
   "outputs": [],
   "source": [
    "! which python\n",
    "import oracledb\n",
    "import random"
   ]
  },
  {
   "cell_type": "code",
   "execution_count": null,
   "id": "98faf740-e37f-4fe9-bfc3-e0e821efe075",
   "metadata": {},
   "outputs": [],
   "source": [
    "# Connection details\n",
    "db_host = ''\n",
    "db_port = 1526\n",
    "db_sid = ''\n",
    "db_usr = ''\n",
    "db_pwd = ''\n",
    "table = ''"
   ]
  },
  {
   "cell_type": "code",
   "execution_count": null,
   "id": "4fe69fd3-c87b-4668-a313-9e5b8ffb9ddd",
   "metadata": {},
   "outputs": [],
   "source": [
    "# Database connection setup\n",
    "dsn = oracledb.makedsn(db_host, db_port, db_sid)\n",
    "connection = oracledb.connect(user=db_usr, password=db_pwd, dsn=dsn)\n",
    "connection.autocommit = False # Manage commits manually for better performance\n",
    "cursor = connection.cursor()\n",
    "print('Client configured')"
   ]
  },
  {
   "cell_type": "code",
   "execution_count": null,
   "id": "8dac799e-6f84-4d9c-9691-abf02fcc1d33",
   "metadata": {},
   "outputs": [],
   "source": [
    "# Specify batch size\n",
    "cursor.arraysize = 10000\n",
    "\n",
    "# Set the number of updates to do\n",
    "number_of_updates = 15000"
   ]
  },
  {
   "cell_type": "code",
   "execution_count": null,
   "id": "ed428800-6f5c-4be2-a611-bb9bc5c76bd1",
   "metadata": {},
   "outputs": [],
   "source": [
    "# Fetch ID of a random subset of records\n",
    "sql_fetch_keys = f\"\"\"\n",
    "      select PK from {table} FETCH FIRST :num ROWS ONLY\n",
    "\"\"\"\n",
    "cursor.execute(sql_fetch_keys, num=number_of_updates)\n",
    "keys_to_update = [(row[0],) for row in cursor.fetchall()]"
   ]
  },
  {
   "cell_type": "code",
   "execution_count": null,
   "id": "fbf8c7df-fffc-4614-83c3-a80940821963",
   "metadata": {},
   "outputs": [],
   "source": [
    "# Print sample PKs\n",
    "sample_pks = [val[0] for val in random.sample(keys_to_update, min(20, len(keys_to_update)))]\n",
    "print(f'Sample PKs: {sample_pks}')"
   ]
  },
  {
   "cell_type": "code",
   "execution_count": null,
   "id": "a9595ab1-d325-4297-981f-5ad2a073ef6d",
   "metadata": {},
   "outputs": [],
   "source": [
    "# Update records in batches for better performance\n",
    "sql_update_query = f\"update {table} set MODIFIEDTS = SYSTIMESTAMP where PK = :1\"\n",
    "cursor.prepare(sql_update_query)\n",
    "batch_errors = cursor.executemany(None, keys_to_update, batcherrors=True)"
   ]
  },
  {
   "cell_type": "code",
   "execution_count": null,
   "id": "65d23016-9847-45e6-b324-fe3861067bf3",
   "metadata": {},
   "outputs": [],
   "source": [
    "# Commit changes\n",
    "connection.commit()\n",
    "print('Changes applied')"
   ]
  },
  {
   "cell_type": "code",
   "execution_count": null,
   "id": "87d4bdf1-0025-43b7-be5f-0d37059b5626",
   "metadata": {},
   "outputs": [],
   "source": [
    "# Check errors\n",
    "if batch_errors:\n",
    "    for error in batch_errors:\n",
    "        print(\"Error occurred at row offset\", error.offset, \", error message is:\", error.message)\n",
    "else:\n",
    "    print('No errors occured')"
   ]
  },
  {
   "cell_type": "code",
   "execution_count": null,
   "id": "fcf70b19-6dbb-4402-894f-898f7c84adcf",
   "metadata": {},
   "outputs": [],
   "source": [
    "# Print updated sample entities\n",
    "in_part = f\"({','.join(str(pk) for pk in sample_pks)})\"\n",
    "sql_fetch_updates = f\"select PK, MODIFIEDTS from {table} where PK in {in_part}\"\n",
    "\n",
    "print(sql_fetch_updates)\n",
    "cursor.execute(sql_fetch_updates)\n",
    "result = cursor.fetchall()\n",
    "print('\\n'.join(str(tpl) for tpl in result))"
   ]
  },
  {
   "cell_type": "code",
   "execution_count": null,
   "id": "9117e07f-e299-4d0f-a7e7-6a17ae298e35",
   "metadata": {},
   "outputs": [],
   "source": [
    "# Clean up\n",
    "cursor.close()\n",
    "connection.close()"
   ]
  }
 ],
 "metadata": {
  "kernelspec": {
   "display_name": "Python 3 (ipykernel)",
   "language": "python",
   "name": "python3"
  },
  "language_info": {
   "codemirror_mode": {
    "name": "ipython",
    "version": 3
   },
   "file_extension": ".py",
   "mimetype": "text/x-python",
   "name": "python",
   "nbconvert_exporter": "python",
   "pygments_lexer": "ipython3",
   "version": "3.11.4"
  }
 },
 "nbformat": 4,
 "nbformat_minor": 5
}
